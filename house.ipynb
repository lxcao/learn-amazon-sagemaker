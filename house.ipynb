{
 "metadata": {
  "language_info": {
   "codemirror_mode": {
    "name": "ipython",
    "version": 3
   },
   "file_extension": ".py",
   "mimetype": "text/x-python",
   "name": "python",
   "nbconvert_exporter": "python",
   "pygments_lexer": "ipython3",
   "version": "3.8.5-final"
  },
  "orig_nbformat": 2,
  "kernelspec": {
   "name": "python3",
   "display_name": "Python 3",
   "language": "python"
  }
 },
 "nbformat": 4,
 "nbformat_minor": 2,
 "cells": [
  {
   "cell_type": "code",
   "execution_count": 1,
   "metadata": {},
   "outputs": [],
   "source": [
    "import pandas as pd"
   ]
  },
  {
   "cell_type": "code",
   "execution_count": 2,
   "metadata": {},
   "outputs": [],
   "source": [
    "dataset = pd.read_csv('housing.csv')"
   ]
  },
  {
   "cell_type": "code",
   "execution_count": 3,
   "metadata": {},
   "outputs": [
    {
     "output_type": "stream",
     "name": "stdout",
     "text": [
      "(506, 13)\n"
     ]
    }
   ],
   "source": [
    "print(dataset.shape)"
   ]
  },
  {
   "cell_type": "code",
   "execution_count": 4,
   "metadata": {},
   "outputs": [
    {
     "output_type": "execute_result",
     "data": {
      "text/plain": [
       "      crim    zn  indus  chas    nox    age    rm     dis  rad    tax  \\\n",
       "0  0.00632  18.0   2.31     0  0.538  6.575  65.2  4.0900    1  296.0   \n",
       "1  0.02731   0.0   7.07     0  0.469  6.421  78.9  4.9671    2  242.0   \n",
       "2  0.02729   0.0   7.07     0  0.469  7.185  61.1  4.9671    2  242.0   \n",
       "3  0.03237   0.0   2.18     0  0.458  6.998  45.8  6.0622    3  222.0   \n",
       "4  0.06905   0.0   2.18     0  0.458  7.147  54.2  6.0622    3  222.0   \n",
       "\n",
       "   ptratio  lstat  medv  \n",
       "0     15.3   4.98  24.0  \n",
       "1     17.8   9.14  21.6  \n",
       "2     17.8   4.03  34.7  \n",
       "3     18.7   2.94  33.4  \n",
       "4     18.7   5.33  36.2  "
      ],
      "text/html": "<div>\n<style scoped>\n    .dataframe tbody tr th:only-of-type {\n        vertical-align: middle;\n    }\n\n    .dataframe tbody tr th {\n        vertical-align: top;\n    }\n\n    .dataframe thead th {\n        text-align: right;\n    }\n</style>\n<table border=\"1\" class=\"dataframe\">\n  <thead>\n    <tr style=\"text-align: right;\">\n      <th></th>\n      <th>crim</th>\n      <th>zn</th>\n      <th>indus</th>\n      <th>chas</th>\n      <th>nox</th>\n      <th>age</th>\n      <th>rm</th>\n      <th>dis</th>\n      <th>rad</th>\n      <th>tax</th>\n      <th>ptratio</th>\n      <th>lstat</th>\n      <th>medv</th>\n    </tr>\n  </thead>\n  <tbody>\n    <tr>\n      <th>0</th>\n      <td>0.00632</td>\n      <td>18.0</td>\n      <td>2.31</td>\n      <td>0</td>\n      <td>0.538</td>\n      <td>6.575</td>\n      <td>65.2</td>\n      <td>4.0900</td>\n      <td>1</td>\n      <td>296.0</td>\n      <td>15.3</td>\n      <td>4.98</td>\n      <td>24.0</td>\n    </tr>\n    <tr>\n      <th>1</th>\n      <td>0.02731</td>\n      <td>0.0</td>\n      <td>7.07</td>\n      <td>0</td>\n      <td>0.469</td>\n      <td>6.421</td>\n      <td>78.9</td>\n      <td>4.9671</td>\n      <td>2</td>\n      <td>242.0</td>\n      <td>17.8</td>\n      <td>9.14</td>\n      <td>21.6</td>\n    </tr>\n    <tr>\n      <th>2</th>\n      <td>0.02729</td>\n      <td>0.0</td>\n      <td>7.07</td>\n      <td>0</td>\n      <td>0.469</td>\n      <td>7.185</td>\n      <td>61.1</td>\n      <td>4.9671</td>\n      <td>2</td>\n      <td>242.0</td>\n      <td>17.8</td>\n      <td>4.03</td>\n      <td>34.7</td>\n    </tr>\n    <tr>\n      <th>3</th>\n      <td>0.03237</td>\n      <td>0.0</td>\n      <td>2.18</td>\n      <td>0</td>\n      <td>0.458</td>\n      <td>6.998</td>\n      <td>45.8</td>\n      <td>6.0622</td>\n      <td>3</td>\n      <td>222.0</td>\n      <td>18.7</td>\n      <td>2.94</td>\n      <td>33.4</td>\n    </tr>\n    <tr>\n      <th>4</th>\n      <td>0.06905</td>\n      <td>0.0</td>\n      <td>2.18</td>\n      <td>0</td>\n      <td>0.458</td>\n      <td>7.147</td>\n      <td>54.2</td>\n      <td>6.0622</td>\n      <td>3</td>\n      <td>222.0</td>\n      <td>18.7</td>\n      <td>5.33</td>\n      <td>36.2</td>\n    </tr>\n  </tbody>\n</table>\n</div>"
     },
     "metadata": {},
     "execution_count": 4
    }
   ],
   "source": [
    "dataset[:5]"
   ]
  },
  {
   "cell_type": "code",
   "execution_count": 5,
   "metadata": {},
   "outputs": [],
   "source": [
    "dataset = pd.concat([dataset['medv'],\n",
    "dataset.drop(['medv'], axis=1)],\n",
    "axis=1)"
   ]
  },
  {
   "cell_type": "code",
   "execution_count": 6,
   "metadata": {},
   "outputs": [
    {
     "output_type": "execute_result",
     "data": {
      "text/plain": [
       "   medv     crim    zn  indus  chas    nox    age    rm     dis  rad    tax  \\\n",
       "0  24.0  0.00632  18.0   2.31     0  0.538  6.575  65.2  4.0900    1  296.0   \n",
       "1  21.6  0.02731   0.0   7.07     0  0.469  6.421  78.9  4.9671    2  242.0   \n",
       "2  34.7  0.02729   0.0   7.07     0  0.469  7.185  61.1  4.9671    2  242.0   \n",
       "3  33.4  0.03237   0.0   2.18     0  0.458  6.998  45.8  6.0622    3  222.0   \n",
       "4  36.2  0.06905   0.0   2.18     0  0.458  7.147  54.2  6.0622    3  222.0   \n",
       "\n",
       "   ptratio  lstat  \n",
       "0     15.3   4.98  \n",
       "1     17.8   9.14  \n",
       "2     17.8   4.03  \n",
       "3     18.7   2.94  \n",
       "4     18.7   5.33  "
      ],
      "text/html": "<div>\n<style scoped>\n    .dataframe tbody tr th:only-of-type {\n        vertical-align: middle;\n    }\n\n    .dataframe tbody tr th {\n        vertical-align: top;\n    }\n\n    .dataframe thead th {\n        text-align: right;\n    }\n</style>\n<table border=\"1\" class=\"dataframe\">\n  <thead>\n    <tr style=\"text-align: right;\">\n      <th></th>\n      <th>medv</th>\n      <th>crim</th>\n      <th>zn</th>\n      <th>indus</th>\n      <th>chas</th>\n      <th>nox</th>\n      <th>age</th>\n      <th>rm</th>\n      <th>dis</th>\n      <th>rad</th>\n      <th>tax</th>\n      <th>ptratio</th>\n      <th>lstat</th>\n    </tr>\n  </thead>\n  <tbody>\n    <tr>\n      <th>0</th>\n      <td>24.0</td>\n      <td>0.00632</td>\n      <td>18.0</td>\n      <td>2.31</td>\n      <td>0</td>\n      <td>0.538</td>\n      <td>6.575</td>\n      <td>65.2</td>\n      <td>4.0900</td>\n      <td>1</td>\n      <td>296.0</td>\n      <td>15.3</td>\n      <td>4.98</td>\n    </tr>\n    <tr>\n      <th>1</th>\n      <td>21.6</td>\n      <td>0.02731</td>\n      <td>0.0</td>\n      <td>7.07</td>\n      <td>0</td>\n      <td>0.469</td>\n      <td>6.421</td>\n      <td>78.9</td>\n      <td>4.9671</td>\n      <td>2</td>\n      <td>242.0</td>\n      <td>17.8</td>\n      <td>9.14</td>\n    </tr>\n    <tr>\n      <th>2</th>\n      <td>34.7</td>\n      <td>0.02729</td>\n      <td>0.0</td>\n      <td>7.07</td>\n      <td>0</td>\n      <td>0.469</td>\n      <td>7.185</td>\n      <td>61.1</td>\n      <td>4.9671</td>\n      <td>2</td>\n      <td>242.0</td>\n      <td>17.8</td>\n      <td>4.03</td>\n    </tr>\n    <tr>\n      <th>3</th>\n      <td>33.4</td>\n      <td>0.03237</td>\n      <td>0.0</td>\n      <td>2.18</td>\n      <td>0</td>\n      <td>0.458</td>\n      <td>6.998</td>\n      <td>45.8</td>\n      <td>6.0622</td>\n      <td>3</td>\n      <td>222.0</td>\n      <td>18.7</td>\n      <td>2.94</td>\n    </tr>\n    <tr>\n      <th>4</th>\n      <td>36.2</td>\n      <td>0.06905</td>\n      <td>0.0</td>\n      <td>2.18</td>\n      <td>0</td>\n      <td>0.458</td>\n      <td>7.147</td>\n      <td>54.2</td>\n      <td>6.0622</td>\n      <td>3</td>\n      <td>222.0</td>\n      <td>18.7</td>\n      <td>5.33</td>\n    </tr>\n  </tbody>\n</table>\n</div>"
     },
     "metadata": {},
     "execution_count": 6
    }
   ],
   "source": [
    "dataset[:5]"
   ]
  },
  {
   "cell_type": "code",
   "execution_count": 7,
   "metadata": {},
   "outputs": [],
   "source": [
    "from sklearn.model_selection import train_test_split"
   ]
  },
  {
   "cell_type": "code",
   "execution_count": 8,
   "metadata": {},
   "outputs": [],
   "source": [
    "training_dataset, validation_dataset = train_test_split(dataset, test_size=0.1)"
   ]
  },
  {
   "cell_type": "code",
   "execution_count": 9,
   "metadata": {},
   "outputs": [],
   "source": [
    "training_dataset.to_csv('training_dataset.csv',index=False, header=False)\n",
    "validation_dataset.to_csv('validation_dataset.csv',index=False, header=False)"
   ]
  },
  {
   "cell_type": "code",
   "execution_count": 13,
   "metadata": {},
   "outputs": [],
   "source": [
    "import boto3"
   ]
  },
  {
   "cell_type": "code",
   "execution_count": 31,
   "metadata": {},
   "outputs": [],
   "source": [
    "session = boto3.Session(profile_name='china')"
   ]
  },
  {
   "cell_type": "code",
   "execution_count": 32,
   "metadata": {},
   "outputs": [
    {
     "output_type": "execute_result",
     "data": {
      "text/plain": [
       "Session(region_name='cn-northwest-1')"
      ]
     },
     "metadata": {},
     "execution_count": 32
    }
   ],
   "source": [
    "session"
   ]
  },
  {
   "cell_type": "code",
   "execution_count": 33,
   "metadata": {},
   "outputs": [],
   "source": [
    "import sagemaker"
   ]
  },
  {
   "cell_type": "code",
   "execution_count": 59,
   "metadata": {},
   "outputs": [],
   "source": [
    "sess = sagemaker.Session(boto_session=session)\n",
    "bucket = sess.default_bucket()"
   ]
  },
  {
   "cell_type": "code",
   "execution_count": 60,
   "metadata": {},
   "outputs": [
    {
     "output_type": "execute_result",
     "data": {
      "text/plain": [
       "'sagemaker-cn-northwest-1-017664957742'"
      ]
     },
     "metadata": {},
     "execution_count": 60
    }
   ],
   "source": [
    "bucket"
   ]
  },
  {
   "cell_type": "code",
   "execution_count": 65,
   "metadata": {},
   "outputs": [
    {
     "output_type": "stream",
     "name": "stdout",
     "text": [
      "s3://sagemaker-cn-northwest-1-017664957742/boston-housing/input/training/training_dataset.csv\ns3://sagemaker-cn-northwest-1-017664957742/boston-housing/input/validation/validation_dataset.csv\n"
     ]
    }
   ],
   "source": [
    "prefix = 'boston-housing'\n",
    "training_data_path = sess.upload_data(path='training_dataset.csv',key_prefix=prefix + '/input/training')\n",
    "validation_data_path = sess.upload_data(path='validation_dataset.csv',key_prefix=prefix + '/input/validation')\n",
    "print(training_data_path)\n",
    "print(validation_data_path)"
   ]
  },
  {
   "cell_type": "code",
   "execution_count": 22,
   "metadata": {},
   "outputs": [],
   "source": [
    "region = session.region_name\n",
    "container = sagemaker.image_uris.retrieve('linear-learner', region)"
   ]
  },
  {
   "cell_type": "code",
   "execution_count": 26,
   "metadata": {},
   "outputs": [
    {
     "output_type": "execute_result",
     "data": {
      "text/plain": [
       "'387376663083.dkr.ecr.cn-northwest-1.amazonaws.com.cn/linear-learner:1'"
      ]
     },
     "metadata": {},
     "execution_count": 26
    }
   ],
   "source": [
    "region\n",
    "container"
   ]
  },
  {
   "cell_type": "code",
   "execution_count": 42,
   "metadata": {},
   "outputs": [],
   "source": [
    "iam = session.client('iam')"
   ]
  },
  {
   "cell_type": "code",
   "execution_count": 43,
   "metadata": {},
   "outputs": [],
   "source": [
    "role = iam.get_role(RoleName='AmazonSageMaker-ExecutionRole-20201207T092541')['Role']['Arn']"
   ]
  },
  {
   "cell_type": "code",
   "execution_count": 58,
   "metadata": {},
   "outputs": [
    {
     "output_type": "execute_result",
     "data": {
      "text/plain": [
       "<sagemaker.session.Session at 0x7fcbb9316490>"
      ]
     },
     "metadata": {},
     "execution_count": 58
    }
   ],
   "source": [
    "sess"
   ]
  },
  {
   "cell_type": "code",
   "execution_count": 73,
   "metadata": {},
   "outputs": [],
   "source": [
    "ll_estimator = sagemaker.estimator.Estimator(\n",
    "container,\n",
    "role=role,\n",
    "instance_count=1,\n",
    "instance_type='ml.m5.large',\n",
    "output_path='s3://{}/{}/output'.format(bucket,prefix),\n",
    "sagemaker_session=sess,\n",
    "disable_profiler=True)"
   ]
  },
  {
   "cell_type": "code",
   "execution_count": 74,
   "metadata": {},
   "outputs": [],
   "source": [
    "ll_estimator.set_hyperparameters(\n",
    "predictor_type='regressor',\n",
    "mini_batch_size=32)"
   ]
  },
  {
   "cell_type": "code",
   "execution_count": 75,
   "metadata": {},
   "outputs": [
    {
     "output_type": "stream",
     "name": "stdout",
     "text": [
      "2020-12-19 03:10:14 Starting - Starting the training job...\n",
      "2020-12-19 03:10:19 Starting - Launching requested ML instances...\n",
      "2020-12-19 03:11:21 Starting - Preparing the instances for training......\n",
      "2020-12-19 03:12:23 Downloading - Downloading input data...\n",
      "2020-12-19 03:13:17 Training - Downloading the training image..\u001b[34mDocker entrypoint called with argument(s): train\u001b[0m\n",
      "\u001b[34mRunning default environment configuration script\u001b[0m\n",
      "\u001b[34m[12/19/2020 03:13:34 INFO 140262562305856] Reading default configuration from /opt/amazon/lib/python2.7/site-packages/algorithm/resources/default-input.json: {u'loss_insensitivity': u'0.01', u'epochs': u'15', u'feature_dim': u'auto', u'init_bias': u'0.0', u'lr_scheduler_factor': u'auto', u'num_calibration_samples': u'10000000', u'accuracy_top_k': u'3', u'_num_kv_servers': u'auto', u'use_bias': u'true', u'num_point_for_scaler': u'10000', u'_log_level': u'info', u'quantile': u'0.5', u'bias_lr_mult': u'auto', u'lr_scheduler_step': u'auto', u'init_method': u'uniform', u'init_sigma': u'0.01', u'lr_scheduler_minimum_lr': u'auto', u'target_recall': u'0.8', u'num_models': u'auto', u'early_stopping_patience': u'3', u'momentum': u'auto', u'unbias_label': u'auto', u'wd': u'auto', u'optimizer': u'auto', u'_tuning_objective_metric': u'', u'early_stopping_tolerance': u'0.001', u'learning_rate': u'auto', u'_kvstore': u'auto', u'normalize_data': u'true', u'binary_classifier_model_selection_criteria': u'accuracy', u'use_lr_scheduler': u'true', u'target_precision': u'0.8', u'unbias_data': u'auto', u'init_scale': u'0.07', u'bias_wd_mult': u'auto', u'f_beta': u'1.0', u'mini_batch_size': u'1000', u'huber_delta': u'1.0', u'num_classes': u'1', u'beta_1': u'auto', u'loss': u'auto', u'beta_2': u'auto', u'_enable_profiler': u'false', u'normalize_label': u'auto', u'_num_gpus': u'auto', u'balance_multiclass_weights': u'false', u'positive_example_weight_mult': u'1.0', u'l1': u'auto', u'margin': u'1.0'}\u001b[0m\n",
      "\u001b[34m[12/19/2020 03:13:34 INFO 140262562305856] Merging with provided configuration from /opt/ml/input/config/hyperparameters.json: {u'mini_batch_size': u'32', u'predictor_type': u'regressor'}\u001b[0m\n",
      "\u001b[34m[12/19/2020 03:13:34 INFO 140262562305856] Final configuration: {u'loss_insensitivity': u'0.01', u'epochs': u'15', u'feature_dim': u'auto', u'init_bias': u'0.0', u'lr_scheduler_factor': u'auto', u'num_calibration_samples': u'10000000', u'accuracy_top_k': u'3', u'_num_kv_servers': u'auto', u'use_bias': u'true', u'num_point_for_scaler': u'10000', u'_log_level': u'info', u'quantile': u'0.5', u'bias_lr_mult': u'auto', u'lr_scheduler_step': u'auto', u'init_method': u'uniform', u'init_sigma': u'0.01', u'lr_scheduler_minimum_lr': u'auto', u'target_recall': u'0.8', u'num_models': u'auto', u'early_stopping_patience': u'3', u'momentum': u'auto', u'unbias_label': u'auto', u'wd': u'auto', u'optimizer': u'auto', u'_tuning_objective_metric': u'', u'early_stopping_tolerance': u'0.001', u'learning_rate': u'auto', u'_kvstore': u'auto', u'normalize_data': u'true', u'binary_classifier_model_selection_criteria': u'accuracy', u'use_lr_scheduler': u'true', u'target_precision': u'0.8', u'unbias_data': u'auto', u'init_scale': u'0.07', u'bias_wd_mult': u'auto', u'f_beta': u'1.0', u'mini_batch_size': u'32', u'huber_delta': u'1.0', u'num_classes': u'1', u'predictor_type': u'regressor', u'beta_1': u'auto', u'loss': u'auto', u'beta_2': u'auto', u'_enable_profiler': u'false', u'normalize_label': u'auto', u'_num_gpus': u'auto', u'balance_multiclass_weights': u'false', u'positive_example_weight_mult': u'1.0', u'l1': u'auto', u'margin': u'1.0'}\u001b[0m\n",
      "\u001b[34m[12/19/2020 03:13:34 ERROR 140262562305856] Customer Error: Unable to initialize the algorithm. Failed to validate input data configuration. (caused by ValidationError)\n",
      "\u001b[0m\n",
      "\u001b[34mCaused by: {} is not valid under any of the given schemas\n",
      "\u001b[0m\n",
      "\u001b[34mFailed validating u'anyOf' in schema:\n",
      "    {u'$schema': u'http://json-schema.org/draft-04/schema#',\n",
      "     u'additionalProperties': False,\n",
      "     u'anyOf': [{u'required': [u'train']}, {u'required': [u'state']}],\n",
      "     u'definitions': {u'data_channel': {u'properties': {u'ContentType': {u'type': u'string'},\n",
      "                                                        u'RecordWrapperType': {u'enum': [u'None'],\n",
      "                                                                               u'type': u'string'},\n",
      "                                                        u'S3DataType': {u'enum': [u'S3Prefix',\n",
      "                                                                                  u'ManifestFile'],\n",
      "                                                                        u'type': u'string'},\n",
      "                                                        u'S3DistributionType': {u'enum': [u'FullyReplicated',\n",
      "                                                                                          u'ShardedByS3Key'],\n",
      "                                                                                u'type': u'string'},\n",
      "                                                        u'TrainingInputMode': {u'enum': [u'File',\n",
      "                                                                                         u'Pipe'],\n",
      "                                                                               u'type': u'string'}},\n",
      "                                        u'type': u'object'}},\n",
      "     u'properties': {u'state': {u'$ref': u'#/definitions/data_channel'},\n",
      "                     u'test': {u'$ref': u'#/definitions/data_channel'},\n",
      "                     u'train': {u'$ref': u'#/definitions/data_channel'},\n",
      "                     u'validation': {u'$ref': u'#/definitions/data_channel'}},\n",
      "     u'type': u'object'}\n",
      "\u001b[0m\n",
      "\u001b[34mOn instance:\n",
      "    {}\u001b[0m\n",
      "\n",
      "2020-12-19 03:13:36 Uploading - Uploading generated training model\n",
      "2020-12-19 03:14:24 Failed - Training job failed\n"
     ]
    },
    {
     "output_type": "error",
     "ename": "UnexpectedStatusException",
     "evalue": "Error for Training job linear-learner-2020-12-19-03-10-12-618: Failed. Reason: ClientError: Unable to initialize the algorithm. Failed to validate input data configuration. (caused by ValidationError)\n\nCaused by: {} is not valid under any of the given schemas\n\nFailed validating u'anyOf' in schema:\n    {u'$schema': u'http://json-schema.org/draft-04/schema#',\n     u'additionalProperties': False,\n     u'anyOf': [{u'required': [u'train']}, {u'required': [u'state']}],\n     u'definitions': {u'data_channel': {u'properties': {u'ContentType': {u'type': u'string'},\n                                                        u'RecordWrapperType': {u'enum': [u'None'],\n                                                                               u'type': u'string'},\n                                                        u'S3DataType': {u'enum': [u'S3Prefix',\n                                                                                  u'ManifestFile'],\n                                                                        u'type': u'string'},\n                                                   ",
     "traceback": [
      "\u001b[0;31m---------------------------------------------------------------------------\u001b[0m",
      "\u001b[0;31mUnexpectedStatusException\u001b[0m                 Traceback (most recent call last)",
      "\u001b[0;32m<ipython-input-75-62379e231366>\u001b[0m in \u001b[0;36m<module>\u001b[0;34m\u001b[0m\n\u001b[0;32m----> 1\u001b[0;31m \u001b[0mll_estimator\u001b[0m\u001b[0;34m.\u001b[0m\u001b[0mfit\u001b[0m\u001b[0;34m(\u001b[0m\u001b[0;34m)\u001b[0m\u001b[0;34m\u001b[0m\u001b[0;34m\u001b[0m\u001b[0m\n\u001b[0m",
      "\u001b[0;32m~/opt/anaconda3/envs/aws-ml-workshop-python3.8-20201212/lib/python3.8/site-packages/sagemaker/estimator.py\u001b[0m in \u001b[0;36mfit\u001b[0;34m(self, inputs, wait, logs, job_name, experiment_config)\u001b[0m\n\u001b[1;32m    657\u001b[0m         \u001b[0mself\u001b[0m\u001b[0;34m.\u001b[0m\u001b[0mjobs\u001b[0m\u001b[0;34m.\u001b[0m\u001b[0mappend\u001b[0m\u001b[0;34m(\u001b[0m\u001b[0mself\u001b[0m\u001b[0;34m.\u001b[0m\u001b[0mlatest_training_job\u001b[0m\u001b[0;34m)\u001b[0m\u001b[0;34m\u001b[0m\u001b[0;34m\u001b[0m\u001b[0m\n\u001b[1;32m    658\u001b[0m         \u001b[0;32mif\u001b[0m \u001b[0mwait\u001b[0m\u001b[0;34m:\u001b[0m\u001b[0;34m\u001b[0m\u001b[0;34m\u001b[0m\u001b[0m\n\u001b[0;32m--> 659\u001b[0;31m             \u001b[0mself\u001b[0m\u001b[0;34m.\u001b[0m\u001b[0mlatest_training_job\u001b[0m\u001b[0;34m.\u001b[0m\u001b[0mwait\u001b[0m\u001b[0;34m(\u001b[0m\u001b[0mlogs\u001b[0m\u001b[0;34m=\u001b[0m\u001b[0mlogs\u001b[0m\u001b[0;34m)\u001b[0m\u001b[0;34m\u001b[0m\u001b[0;34m\u001b[0m\u001b[0m\n\u001b[0m\u001b[1;32m    660\u001b[0m \u001b[0;34m\u001b[0m\u001b[0m\n\u001b[1;32m    661\u001b[0m     \u001b[0;32mdef\u001b[0m \u001b[0m_compilation_job_name\u001b[0m\u001b[0;34m(\u001b[0m\u001b[0mself\u001b[0m\u001b[0;34m)\u001b[0m\u001b[0;34m:\u001b[0m\u001b[0;34m\u001b[0m\u001b[0;34m\u001b[0m\u001b[0m\n",
      "\u001b[0;32m~/opt/anaconda3/envs/aws-ml-workshop-python3.8-20201212/lib/python3.8/site-packages/sagemaker/estimator.py\u001b[0m in \u001b[0;36mwait\u001b[0;34m(self, logs)\u001b[0m\n\u001b[1;32m   1598\u001b[0m         \u001b[0;31m# If logs are requested, call logs_for_jobs.\u001b[0m\u001b[0;34m\u001b[0m\u001b[0;34m\u001b[0m\u001b[0;34m\u001b[0m\u001b[0m\n\u001b[1;32m   1599\u001b[0m         \u001b[0;32mif\u001b[0m \u001b[0mlogs\u001b[0m \u001b[0;34m!=\u001b[0m \u001b[0;34m\"None\"\u001b[0m\u001b[0;34m:\u001b[0m\u001b[0;34m\u001b[0m\u001b[0;34m\u001b[0m\u001b[0m\n\u001b[0;32m-> 1600\u001b[0;31m             \u001b[0mself\u001b[0m\u001b[0;34m.\u001b[0m\u001b[0msagemaker_session\u001b[0m\u001b[0;34m.\u001b[0m\u001b[0mlogs_for_job\u001b[0m\u001b[0;34m(\u001b[0m\u001b[0mself\u001b[0m\u001b[0;34m.\u001b[0m\u001b[0mjob_name\u001b[0m\u001b[0;34m,\u001b[0m \u001b[0mwait\u001b[0m\u001b[0;34m=\u001b[0m\u001b[0;32mTrue\u001b[0m\u001b[0;34m,\u001b[0m \u001b[0mlog_type\u001b[0m\u001b[0;34m=\u001b[0m\u001b[0mlogs\u001b[0m\u001b[0;34m)\u001b[0m\u001b[0;34m\u001b[0m\u001b[0;34m\u001b[0m\u001b[0m\n\u001b[0m\u001b[1;32m   1601\u001b[0m         \u001b[0;32melse\u001b[0m\u001b[0;34m:\u001b[0m\u001b[0;34m\u001b[0m\u001b[0;34m\u001b[0m\u001b[0m\n\u001b[1;32m   1602\u001b[0m             \u001b[0mself\u001b[0m\u001b[0;34m.\u001b[0m\u001b[0msagemaker_session\u001b[0m\u001b[0;34m.\u001b[0m\u001b[0mwait_for_job\u001b[0m\u001b[0;34m(\u001b[0m\u001b[0mself\u001b[0m\u001b[0;34m.\u001b[0m\u001b[0mjob_name\u001b[0m\u001b[0;34m)\u001b[0m\u001b[0;34m\u001b[0m\u001b[0;34m\u001b[0m\u001b[0m\n",
      "\u001b[0;32m~/opt/anaconda3/envs/aws-ml-workshop-python3.8-20201212/lib/python3.8/site-packages/sagemaker/session.py\u001b[0m in \u001b[0;36mlogs_for_job\u001b[0;34m(self, job_name, wait, poll, log_type)\u001b[0m\n\u001b[1;32m   3685\u001b[0m \u001b[0;34m\u001b[0m\u001b[0m\n\u001b[1;32m   3686\u001b[0m         \u001b[0;32mif\u001b[0m \u001b[0mwait\u001b[0m\u001b[0;34m:\u001b[0m\u001b[0;34m\u001b[0m\u001b[0;34m\u001b[0m\u001b[0m\n\u001b[0;32m-> 3687\u001b[0;31m             \u001b[0mself\u001b[0m\u001b[0;34m.\u001b[0m\u001b[0m_check_job_status\u001b[0m\u001b[0;34m(\u001b[0m\u001b[0mjob_name\u001b[0m\u001b[0;34m,\u001b[0m \u001b[0mdescription\u001b[0m\u001b[0;34m,\u001b[0m \u001b[0;34m\"TrainingJobStatus\"\u001b[0m\u001b[0;34m)\u001b[0m\u001b[0;34m\u001b[0m\u001b[0;34m\u001b[0m\u001b[0m\n\u001b[0m\u001b[1;32m   3688\u001b[0m             \u001b[0;32mif\u001b[0m \u001b[0mdot\u001b[0m\u001b[0;34m:\u001b[0m\u001b[0;34m\u001b[0m\u001b[0;34m\u001b[0m\u001b[0m\n\u001b[1;32m   3689\u001b[0m                 \u001b[0mprint\u001b[0m\u001b[0;34m(\u001b[0m\u001b[0;34m)\u001b[0m\u001b[0;34m\u001b[0m\u001b[0;34m\u001b[0m\u001b[0m\n",
      "\u001b[0;32m~/opt/anaconda3/envs/aws-ml-workshop-python3.8-20201212/lib/python3.8/site-packages/sagemaker/session.py\u001b[0m in \u001b[0;36m_check_job_status\u001b[0;34m(self, job, desc, status_key_name)\u001b[0m\n\u001b[1;32m   3260\u001b[0m             \u001b[0mreason\u001b[0m \u001b[0;34m=\u001b[0m \u001b[0mdesc\u001b[0m\u001b[0;34m.\u001b[0m\u001b[0mget\u001b[0m\u001b[0;34m(\u001b[0m\u001b[0;34m\"FailureReason\"\u001b[0m\u001b[0;34m,\u001b[0m \u001b[0;34m\"(No reason provided)\"\u001b[0m\u001b[0;34m)\u001b[0m\u001b[0;34m\u001b[0m\u001b[0;34m\u001b[0m\u001b[0m\n\u001b[1;32m   3261\u001b[0m             \u001b[0mjob_type\u001b[0m \u001b[0;34m=\u001b[0m \u001b[0mstatus_key_name\u001b[0m\u001b[0;34m.\u001b[0m\u001b[0mreplace\u001b[0m\u001b[0;34m(\u001b[0m\u001b[0;34m\"JobStatus\"\u001b[0m\u001b[0;34m,\u001b[0m \u001b[0;34m\" job\"\u001b[0m\u001b[0;34m)\u001b[0m\u001b[0;34m\u001b[0m\u001b[0;34m\u001b[0m\u001b[0m\n\u001b[0;32m-> 3262\u001b[0;31m             raise exceptions.UnexpectedStatusException(\n\u001b[0m\u001b[1;32m   3263\u001b[0m                 message=\"Error for {job_type} {job_name}: {status}. Reason: {reason}\".format(\n\u001b[1;32m   3264\u001b[0m                     \u001b[0mjob_type\u001b[0m\u001b[0;34m=\u001b[0m\u001b[0mjob_type\u001b[0m\u001b[0;34m,\u001b[0m \u001b[0mjob_name\u001b[0m\u001b[0;34m=\u001b[0m\u001b[0mjob\u001b[0m\u001b[0;34m,\u001b[0m \u001b[0mstatus\u001b[0m\u001b[0;34m=\u001b[0m\u001b[0mstatus\u001b[0m\u001b[0;34m,\u001b[0m \u001b[0mreason\u001b[0m\u001b[0;34m=\u001b[0m\u001b[0mreason\u001b[0m\u001b[0;34m\u001b[0m\u001b[0;34m\u001b[0m\u001b[0m\n",
      "\u001b[0;31mUnexpectedStatusException\u001b[0m: Error for Training job linear-learner-2020-12-19-03-10-12-618: Failed. Reason: ClientError: Unable to initialize the algorithm. Failed to validate input data configuration. (caused by ValidationError)\n\nCaused by: {} is not valid under any of the given schemas\n\nFailed validating u'anyOf' in schema:\n    {u'$schema': u'http://json-schema.org/draft-04/schema#',\n     u'additionalProperties': False,\n     u'anyOf': [{u'required': [u'train']}, {u'required': [u'state']}],\n     u'definitions': {u'data_channel': {u'properties': {u'ContentType': {u'type': u'string'},\n                                                        u'RecordWrapperType': {u'enum': [u'None'],\n                                                                               u'type': u'string'},\n                                                        u'S3DataType': {u'enum': [u'S3Prefix',\n                                                                                  u'ManifestFile'],\n                                                                        u'type': u'string'},\n                                                   "
     ]
    }
   ],
   "source": [
    "ll_estimator.fit()"
   ]
  },
  {
   "cell_type": "code",
   "execution_count": 79,
   "metadata": {},
   "outputs": [],
   "source": [
    "training_data_channel = sagemaker.TrainingInput(\n",
    "s3_data=training_data_path,\n",
    "content_type='text/csv')"
   ]
  },
  {
   "cell_type": "code",
   "execution_count": 80,
   "metadata": {},
   "outputs": [],
   "source": [
    "validation_data_channel = sagemaker.TrainingInput(\n",
    "s3_data=validation_data_path,\n",
    "content_type='text/csv')"
   ]
  },
  {
   "cell_type": "code",
   "execution_count": 81,
   "metadata": {
    "tags": [
     "outputPrepend"
    ]
   },
   "outputs": [
    {
     "output_type": "stream",
     "name": "stdout",
     "text": [
      " \"epoch\": 11}, \"StartTime\": 1608351493.335521}\n",
      "\u001b[0m\n",
      "\u001b[34m#metrics {\"Metrics\": {\"train_mse_objective\": {\"count\": 1, \"max\": 0.3601327581065042, \"sum\": 0.3601327581065042, \"min\": 0.3601327581065042}}, \"EndTime\": 1608351493.335884, \"Dimensions\": {\"model\": 17, \"Host\": \"algo-1\", \"Operation\": \"training\", \"Algorithm\": \"Linear Learner\", \"epoch\": 11}, \"StartTime\": 1608351493.33586}\n",
      "\u001b[0m\n",
      "\u001b[34m#metrics {\"Metrics\": {\"train_mse_objective\": {\"count\": 1, \"max\": 0.35986497146742685, \"sum\": 0.35986497146742685, \"min\": 0.35986497146742685}}, \"EndTime\": 1608351493.336223, \"Dimensions\": {\"model\": 18, \"Host\": \"algo-1\", \"Operation\": \"training\", \"Algorithm\": \"Linear Learner\", \"epoch\": 11}, \"StartTime\": 1608351493.336198}\n",
      "\u001b[0m\n",
      "\u001b[34m#metrics {\"Metrics\": {\"train_mse_objective\": {\"count\": 1, \"max\": 0.36015636899641584, \"sum\": 0.36015636899641584, \"min\": 0.36015636899641584}}, \"EndTime\": 1608351493.336571, \"Dimensions\": {\"model\": 19, \"Host\": \"algo-1\", \"Operation\": \"training\", \"Algorithm\": \"Linear Learner\", \"epoch\": 11}, \"StartTime\": 1608351493.336545}\n",
      "\u001b[0m\n",
      "\u001b[34m#metrics {\"Metrics\": {\"train_mse_objective\": {\"count\": 1, \"max\": 0.3870515951088497, \"sum\": 0.3870515951088497, \"min\": 0.3870515951088497}}, \"EndTime\": 1608351493.33691, \"Dimensions\": {\"model\": 20, \"Host\": \"algo-1\", \"Operation\": \"training\", \"Algorithm\": \"Linear Learner\", \"epoch\": 11}, \"StartTime\": 1608351493.336884}\n",
      "\u001b[0m\n",
      "\u001b[34m#metrics {\"Metrics\": {\"train_mse_objective\": {\"count\": 1, \"max\": 0.40343758357422693, \"sum\": 0.40343758357422693, \"min\": 0.40343758357422693}}, \"EndTime\": 1608351493.337249, \"Dimensions\": {\"model\": 21, \"Host\": \"algo-1\", \"Operation\": \"training\", \"Algorithm\": \"Linear Learner\", \"epoch\": 11}, \"StartTime\": 1608351493.337224}\n",
      "\u001b[0m\n",
      "\u001b[34m#metrics {\"Metrics\": {\"train_mse_objective\": {\"count\": 1, \"max\": 0.39510723522731234, \"sum\": 0.39510723522731234, \"min\": 0.39510723522731234}}, \"EndTime\": 1608351493.337584, \"Dimensions\": {\"model\": 22, \"Host\": \"algo-1\", \"Operation\": \"training\", \"Algorithm\": \"Linear Learner\", \"epoch\": 11}, \"StartTime\": 1608351493.337559}\n",
      "\u001b[0m\n",
      "\u001b[34m#metrics {\"Metrics\": {\"train_mse_objective\": {\"count\": 1, \"max\": 0.4067248489175524, \"sum\": 0.4067248489175524, \"min\": 0.4067248489175524}}, \"EndTime\": 1608351493.337932, \"Dimensions\": {\"model\": 23, \"Host\": \"algo-1\", \"Operation\": \"training\", \"Algorithm\": \"Linear Learner\", \"epoch\": 11}, \"StartTime\": 1608351493.337907}\n",
      "\u001b[0m\n",
      "\u001b[34m#metrics {\"Metrics\": {\"train_mse_objective\": {\"count\": 1, \"max\": 0.9534938548292432, \"sum\": 0.9534938548292432, \"min\": 0.9534938548292432}}, \"EndTime\": 1608351493.338267, \"Dimensions\": {\"model\": 24, \"Host\": \"algo-1\", \"Operation\": \"training\", \"Algorithm\": \"Linear Learner\", \"epoch\": 11}, \"StartTime\": 1608351493.338242}\n",
      "\u001b[0m\n",
      "\u001b[34m#metrics {\"Metrics\": {\"train_mse_objective\": {\"count\": 1, \"max\": 0.9544256329536438, \"sum\": 0.9544256329536438, \"min\": 0.9544256329536438}}, \"EndTime\": 1608351493.338608, \"Dimensions\": {\"model\": 25, \"Host\": \"algo-1\", \"Operation\": \"training\", \"Algorithm\": \"Linear Learner\", \"epoch\": 11}, \"StartTime\": 1608351493.338583}\n",
      "\u001b[0m\n",
      "\u001b[34m#metrics {\"Metrics\": {\"train_mse_objective\": {\"count\": 1, \"max\": 0.9534632691315242, \"sum\": 0.9534632691315242, \"min\": 0.9534632691315242}}, \"EndTime\": 1608351493.338941, \"Dimensions\": {\"model\": 26, \"Host\": \"algo-1\", \"Operation\": \"training\", \"Algorithm\": \"Linear Learner\", \"epoch\": 11}, \"StartTime\": 1608351493.338917}\n",
      "\u001b[0m\n",
      "\u001b[34m#metrics {\"Metrics\": {\"train_mse_objective\": {\"count\": 1, \"max\": 0.9541216194629669, \"sum\": 0.9541216194629669, \"min\": 0.9541216194629669}}, \"EndTime\": 1608351493.339273, \"Dimensions\": {\"model\": 27, \"Host\": \"algo-1\", \"Operation\": \"training\", \"Algorithm\": \"Linear Learner\", \"epoch\": 11}, \"StartTime\": 1608351493.339248}\n",
      "\u001b[0m\n",
      "\u001b[34m#metrics {\"Metrics\": {\"train_mse_objective\": {\"count\": 1, \"max\": 0.9620930084160396, \"sum\": 0.9620930084160396, \"min\": 0.9620930084160396}}, \"EndTime\": 1608351493.339623, \"Dimensions\": {\"model\": 28, \"Host\": \"algo-1\", \"Operation\": \"training\", \"Algorithm\": \"Linear Learner\", \"epoch\": 11}, \"StartTime\": 1608351493.339599}\n",
      "\u001b[0m\n",
      "\u001b[34m#metrics {\"Metrics\": {\"train_mse_objective\": {\"count\": 1, \"max\": 0.9601239774908338, \"sum\": 0.9601239774908338, \"min\": 0.9601239774908338}}, \"EndTime\": 1608351493.339951, \"Dimensions\": {\"model\": 29, \"Host\": \"algo-1\", \"Operation\": \"training\", \"Algorithm\": \"Linear Learner\", \"epoch\": 11}, \"StartTime\": 1608351493.339927}\n",
      "\u001b[0m\n",
      "\u001b[34m#metrics {\"Metrics\": {\"train_mse_objective\": {\"count\": 1, \"max\": 0.963172184569495, \"sum\": 0.963172184569495, \"min\": 0.963172184569495}}, \"EndTime\": 1608351493.340276, \"Dimensions\": {\"model\": 30, \"Host\": \"algo-1\", \"Operation\": \"training\", \"Algorithm\": \"Linear Learner\", \"epoch\": 11}, \"StartTime\": 1608351493.340253}\n",
      "\u001b[0m\n",
      "\u001b[34m#metrics {\"Metrics\": {\"train_mse_objective\": {\"count\": 1, \"max\": 0.9618215475763593, \"sum\": 0.9618215475763593, \"min\": 0.9618215475763593}}, \"EndTime\": 1608351493.340606, \"Dimensions\": {\"model\": 31, \"Host\": \"algo-1\", \"Operation\": \"training\", \"Algorithm\": \"Linear Learner\", \"epoch\": 11}, \"StartTime\": 1608351493.340582}\n",
      "\u001b[0m\n",
      "\u001b[34m[12/19/2020 04:18:13 INFO 139663083075392] #quality_metric: host=algo-1, epoch=11, train mse_objective <loss>=0.265333216637\u001b[0m\n",
      "\u001b[34m#metrics {\"Metrics\": {\"validation_mse_objective\": {\"count\": 1, \"max\": 39.23765773399204, \"sum\": 39.23765773399204, \"min\": 39.23765773399204}}, \"EndTime\": 1608351493.397802, \"Dimensions\": {\"model\": 0, \"Host\": \"algo-1\", \"Operation\": \"training\", \"Algorithm\": \"Linear Learner\", \"epoch\": 11}, \"StartTime\": 1608351493.397711}\n",
      "\u001b[0m\n",
      "\u001b[34m#metrics {\"Metrics\": {\"validation_mse_objective\": {\"count\": 1, \"max\": 38.891947428385414, \"sum\": 38.891947428385414, \"min\": 38.891947428385414}}, \"EndTime\": 1608351493.398197, \"Dimensions\": {\"model\": 1, \"Host\": \"algo-1\", \"Operation\": \"training\", \"Algorithm\": \"Linear Learner\", \"epoch\": 11}, \"StartTime\": 1608351493.39811}\n",
      "\u001b[0m\n",
      "\u001b[34m#metrics {\"Metrics\": {\"validation_mse_objective\": {\"count\": 1, \"max\": 38.48385560278799, \"sum\": 38.48385560278799, \"min\": 38.48385560278799}}, \"EndTime\": 1608351493.398516, \"Dimensions\": {\"model\": 2, \"Host\": \"algo-1\", \"Operation\": \"training\", \"Algorithm\": \"Linear Learner\", \"epoch\": 11}, \"StartTime\": 1608351493.398428}\n",
      "\u001b[0m\n",
      "\u001b[34m#metrics {\"Metrics\": {\"validation_mse_objective\": {\"count\": 1, \"max\": 38.976753982843135, \"sum\": 38.976753982843135, \"min\": 38.976753982843135}}, \"EndTime\": 1608351493.398824, \"Dimensions\": {\"model\": 3, \"Host\": \"algo-1\", \"Operation\": \"training\", \"Algorithm\": \"Linear Learner\", \"epoch\": 11}, \"StartTime\": 1608351493.398744}\n",
      "\u001b[0m\n",
      "\u001b[34m#metrics {\"Metrics\": {\"validation_mse_objective\": {\"count\": 1, \"max\": 38.147727816712624, \"sum\": 38.147727816712624, \"min\": 38.147727816712624}}, \"EndTime\": 1608351493.399037, \"Dimensions\": {\"model\": 4, \"Host\": \"algo-1\", \"Operation\": \"training\", \"Algorithm\": \"Linear Learner\", \"epoch\": 11}, \"StartTime\": 1608351493.398998}\n",
      "\u001b[0m\n",
      "\u001b[34m#metrics {\"Metrics\": {\"validation_mse_objective\": {\"count\": 1, \"max\": 38.41796755323223, \"sum\": 38.41796755323223, \"min\": 38.41796755323223}}, \"EndTime\": 1608351493.399166, \"Dimensions\": {\"model\": 5, \"Host\": \"algo-1\", \"Operation\": \"training\", \"Algorithm\": \"Linear Learner\", \"epoch\": 11}, \"StartTime\": 1608351493.399147}\n",
      "\u001b[0m\n",
      "\u001b[34m#metrics {\"Metrics\": {\"validation_mse_objective\": {\"count\": 1, \"max\": 38.11984671798407, \"sum\": 38.11984671798407, \"min\": 38.11984671798407}}, \"EndTime\": 1608351493.399313, \"Dimensions\": {\"model\": 6, \"Host\": \"algo-1\", \"Operation\": \"training\", \"Algorithm\": \"Linear Learner\", \"epoch\": 11}, \"StartTime\": 1608351493.399295}\n",
      "\u001b[0m\n",
      "\u001b[34m#metrics {\"Metrics\": {\"validation_mse_objective\": {\"count\": 1, \"max\": 38.58294677734375, \"sum\": 38.58294677734375, \"min\": 38.58294677734375}}, \"EndTime\": 1608351493.399359, \"Dimensions\": {\"model\": 7, \"Host\": \"algo-1\", \"Operation\": \"training\", \"Algorithm\": \"Linear Learner\", \"epoch\": 11}, \"StartTime\": 1608351493.399347}\n",
      "\u001b[0m\n",
      "\u001b[34m#metrics {\"Metrics\": {\"validation_mse_objective\": {\"count\": 1, \"max\": 39.155281814874385, \"sum\": 39.155281814874385, \"min\": 39.155281814874385}}, \"EndTime\": 1608351493.399442, \"Dimensions\": {\"model\": 8, \"Host\": \"algo-1\", \"Operation\": \"training\", \"Algorithm\": \"Linear Learner\", \"epoch\": 11}, \"StartTime\": 1608351493.399428}\n",
      "\u001b[0m\n",
      "\u001b[34m#metrics {\"Metrics\": {\"validation_mse_objective\": {\"count\": 1, \"max\": 38.85831107345282, \"sum\": 38.85831107345282, \"min\": 38.85831107345282}}, \"EndTime\": 1608351493.399521, \"Dimensions\": {\"model\": 9, \"Host\": \"algo-1\", \"Operation\": \"training\", \"Algorithm\": \"Linear Learner\", \"epoch\": 11}, \"StartTime\": 1608351493.399475}\n",
      "\u001b[0m\n",
      "\u001b[34m#metrics {\"Metrics\": {\"validation_mse_objective\": {\"count\": 1, \"max\": 38.30370854396446, \"sum\": 38.30370854396446, \"min\": 38.30370854396446}}, \"EndTime\": 1608351493.399594, \"Dimensions\": {\"model\": 10, \"Host\": \"algo-1\", \"Operation\": \"training\", \"Algorithm\": \"Linear Learner\", \"epoch\": 11}, \"StartTime\": 1608351493.399581}\n",
      "\u001b[0m\n",
      "\u001b[34m#metrics {\"Metrics\": {\"validation_mse_objective\": {\"count\": 1, \"max\": 38.886711569393384, \"sum\": 38.886711569393384, \"min\": 38.886711569393384}}, \"EndTime\": 1608351493.399636, \"Dimensions\": {\"model\": 11, \"Host\": \"algo-1\", \"Operation\": \"training\", \"Algorithm\": \"Linear Learner\", \"epoch\": 11}, \"StartTime\": 1608351493.399626}\n",
      "\u001b[0m\n",
      "\u001b[34m#metrics {\"Metrics\": {\"validation_mse_objective\": {\"count\": 1, \"max\": 37.976616354549634, \"sum\": 37.976616354549634, \"min\": 37.976616354549634}}, \"EndTime\": 1608351493.399676, \"Dimensions\": {\"model\": 12, \"Host\": \"algo-1\", \"Operation\": \"training\", \"Algorithm\": \"Linear Learner\", \"epoch\": 11}, \"StartTime\": 1608351493.399665}\n",
      "\u001b[0m\n",
      "\u001b[34m#metrics {\"Metrics\": {\"validation_mse_objective\": {\"count\": 1, \"max\": 38.46409577014399, \"sum\": 38.46409577014399, \"min\": 38.46409577014399}}, \"EndTime\": 1608351493.399798, \"Dimensions\": {\"model\": 13, \"Host\": \"algo-1\", \"Operation\": \"training\", \"Algorithm\": \"Linear Learner\", \"epoch\": 11}, \"StartTime\": 1608351493.399784}\n",
      "\u001b[0m\n",
      "\u001b[34m#metrics {\"Metrics\": {\"validation_mse_objective\": {\"count\": 1, \"max\": 38.01319795496323, \"sum\": 38.01319795496323, \"min\": 38.01319795496323}}, \"EndTime\": 1608351493.39984, \"Dimensions\": {\"model\": 14, \"Host\": \"algo-1\", \"Operation\": \"training\", \"Algorithm\": \"Linear Learner\", \"epoch\": 11}, \"StartTime\": 1608351493.399829}\n",
      "\u001b[0m\n",
      "\u001b[34m#metrics {\"Metrics\": {\"validation_mse_objective\": {\"count\": 1, \"max\": 38.284676346124385, \"sum\": 38.284676346124385, \"min\": 38.284676346124385}}, \"EndTime\": 1608351493.399878, \"Dimensions\": {\"model\": 15, \"Host\": \"algo-1\", \"Operation\": \"training\", \"Algorithm\": \"Linear Learner\", \"epoch\": 11}, \"StartTime\": 1608351493.399868}\n",
      "\u001b[0m\n",
      "\u001b[34m#metrics {\"Metrics\": {\"validation_mse_objective\": {\"count\": 1, \"max\": 47.87758142807905, \"sum\": 47.87758142807905, \"min\": 47.87758142807905}}, \"EndTime\": 1608351493.39992, \"Dimensions\": {\"model\": 16, \"Host\": \"algo-1\", \"Operation\": \"training\", \"Algorithm\": \"Linear Learner\", \"epoch\": 11}, \"StartTime\": 1608351493.399909}\n",
      "\u001b[0m\n",
      "\u001b[34m#metrics {\"Metrics\": {\"validation_mse_objective\": {\"count\": 1, \"max\": 47.865151798023895, \"sum\": 47.865151798023895, \"min\": 47.865151798023895}}, \"EndTime\": 1608351493.400078, \"Dimensions\": {\"model\": 17, \"Host\": \"algo-1\", \"Operation\": \"training\", \"Algorithm\": \"Linear Learner\", \"epoch\": 11}, \"StartTime\": 1608351493.400062}\n",
      "\u001b[0m\n",
      "\u001b[34m#metrics {\"Metrics\": {\"validation_mse_objective\": {\"count\": 1, \"max\": 47.86482029335171, \"sum\": 47.86482029335171, \"min\": 47.86482029335171}}, \"EndTime\": 1608351493.400122, \"Dimensions\": {\"model\": 18, \"Host\": \"algo-1\", \"Operation\": \"training\", \"Algorithm\": \"Linear Learner\", \"epoch\": 11}, \"StartTime\": 1608351493.400111}\n",
      "\u001b[0m\n",
      "\u001b[34m#metrics {\"Metrics\": {\"validation_mse_objective\": {\"count\": 1, \"max\": 47.88049436083027, \"sum\": 47.88049436083027, \"min\": 47.88049436083027}}, \"EndTime\": 1608351493.400162, \"Dimensions\": {\"model\": 19, \"Host\": \"algo-1\", \"Operation\": \"training\", \"Algorithm\": \"Linear Learner\", \"epoch\": 11}, \"StartTime\": 1608351493.400151}\n",
      "\u001b[0m\n",
      "\u001b[34m#metrics {\"Metrics\": {\"validation_mse_objective\": {\"count\": 1, \"max\": 44.851795869715076, \"sum\": 44.851795869715076, \"min\": 44.851795869715076}}, \"EndTime\": 1608351493.400201, \"Dimensions\": {\"model\": 20, \"Host\": \"algo-1\", \"Operation\": \"training\", \"Algorithm\": \"Linear Learner\", \"epoch\": 11}, \"StartTime\": 1608351493.400191}\n",
      "\u001b[0m\n",
      "\u001b[34m#metrics {\"Metrics\": {\"validation_mse_objective\": {\"count\": 1, \"max\": 42.665851667815566, \"sum\": 42.665851667815566, \"min\": 42.665851667815566}}, \"EndTime\": 1608351493.400346, \"Dimensions\": {\"model\": 21, \"Host\": \"algo-1\", \"Operation\": \"training\", \"Algorithm\": \"Linear Learner\", \"epoch\": 11}, \"StartTime\": 1608351493.400334}\n",
      "\u001b[0m\n",
      "\u001b[34m#metrics {\"Metrics\": {\"validation_mse_objective\": {\"count\": 1, \"max\": 43.67225317861519, \"sum\": 43.67225317861519, \"min\": 43.67225317861519}}, \"EndTime\": 1608351493.400387, \"Dimensions\": {\"model\": 22, \"Host\": \"algo-1\", \"Operation\": \"training\", \"Algorithm\": \"Linear Learner\", \"epoch\": 11}, \"StartTime\": 1608351493.400377}\n",
      "\u001b[0m\n",
      "\u001b[34m#metrics {\"Metrics\": {\"validation_mse_objective\": {\"count\": 1, \"max\": 42.40516333486519, \"sum\": 42.40516333486519, \"min\": 42.40516333486519}}, \"EndTime\": 1608351493.400427, \"Dimensions\": {\"model\": 23, \"Host\": \"algo-1\", \"Operation\": \"training\", \"Algorithm\": \"Linear Learner\", \"epoch\": 11}, \"StartTime\": 1608351493.400416}\n",
      "\u001b[0m\n",
      "\u001b[34m#metrics {\"Metrics\": {\"validation_mse_objective\": {\"count\": 1, \"max\": 97.98055013020833, \"sum\": 97.98055013020833, \"min\": 97.98055013020833}}, \"EndTime\": 1608351493.400502, \"Dimensions\": {\"model\": 24, \"Host\": \"algo-1\", \"Operation\": \"training\", \"Algorithm\": \"Linear Learner\", \"epoch\": 11}, \"StartTime\": 1608351493.400456}\n",
      "\u001b[0m\n",
      "\u001b[34m#metrics {\"Metrics\": {\"validation_mse_objective\": {\"count\": 1, \"max\": 97.64441157322304, \"sum\": 97.64441157322304, \"min\": 97.64441157322304}}, \"EndTime\": 1608351493.400609, \"Dimensions\": {\"model\": 25, \"Host\": \"algo-1\", \"Operation\": \"training\", \"Algorithm\": \"Linear Learner\", \"epoch\": 11}, \"StartTime\": 1608351493.400595}\n",
      "\u001b[0m\n",
      "\u001b[34m#metrics {\"Metrics\": {\"validation_mse_objective\": {\"count\": 1, \"max\": 97.88067746629902, \"sum\": 97.88067746629902, \"min\": 97.88067746629902}}, \"EndTime\": 1608351493.400651, \"Dimensions\": {\"model\": 26, \"Host\": \"algo-1\", \"Operation\": \"training\", \"Algorithm\": \"Linear Learner\", \"epoch\": 11}, \"StartTime\": 1608351493.40064}\n",
      "\u001b[0m\n",
      "\u001b[34m#metrics {\"Metrics\": {\"validation_mse_objective\": {\"count\": 1, \"max\": 97.84396063112744, \"sum\": 97.84396063112744, \"min\": 97.84396063112744}}, \"EndTime\": 1608351493.400691, \"Dimensions\": {\"model\": 27, \"Host\": \"algo-1\", \"Operation\": \"training\", \"Algorithm\": \"Linear Learner\", \"epoch\": 11}, \"StartTime\": 1608351493.400681}\n",
      "\u001b[0m\n",
      "\u001b[34m#metrics {\"Metrics\": {\"validation_mse_objective\": {\"count\": 1, \"max\": 97.82603304993873, \"sum\": 97.82603304993873, \"min\": 97.82603304993873}}, \"EndTime\": 1608351493.400732, \"Dimensions\": {\"model\": 28, \"Host\": \"algo-1\", \"Operation\": \"training\", \"Algorithm\": \"Linear Learner\", \"epoch\": 11}, \"StartTime\": 1608351493.400721}\n",
      "\u001b[0m\n",
      "\u001b[34m#metrics {\"Metrics\": {\"validation_mse_objective\": {\"count\": 1, \"max\": 97.47641888786765, \"sum\": 97.47641888786765, \"min\": 97.47641888786765}}, \"EndTime\": 1608351493.400874, \"Dimensions\": {\"model\": 29, \"Host\": \"algo-1\", \"Operation\": \"training\", \"Algorithm\": \"Linear Learner\", \"epoch\": 11}, \"StartTime\": 1608351493.40086}\n",
      "\u001b[0m\n",
      "\u001b[34m#metrics {\"Metrics\": {\"validation_mse_objective\": {\"count\": 1, \"max\": 98.19419232536765, \"sum\": 98.19419232536765, \"min\": 98.19419232536765}}, \"EndTime\": 1608351493.400916, \"Dimensions\": {\"model\": 30, \"Host\": \"algo-1\", \"Operation\": \"training\", \"Algorithm\": \"Linear Learner\", \"epoch\": 11}, \"StartTime\": 1608351493.400906}\n",
      "\u001b[0m\n",
      "\u001b[34m#metrics {\"Metrics\": {\"validation_mse_objective\": {\"count\": 1, \"max\": 97.69487687653186, \"sum\": 97.69487687653186, \"min\": 97.69487687653186}}, \"EndTime\": 1608351493.400955, \"Dimensions\": {\"model\": 31, \"Host\": \"algo-1\", \"Operation\": \"training\", \"Algorithm\": \"Linear Learner\", \"epoch\": 11}, \"StartTime\": 1608351493.400946}\n",
      "\u001b[0m\n",
      "\u001b[34m[12/19/2020 04:18:13 INFO 139663083075392] #quality_metric: host=algo-1, epoch=11, validation mse_objective <loss>=39.237657734\u001b[0m\n",
      "\u001b[34m[12/19/2020 04:18:13 INFO 139663083075392] #early_stopping_criteria_metric: host=algo-1, epoch=11, criteria=mse_objective, value=37.9766163545\u001b[0m\n",
      "\u001b[34m[12/19/2020 04:18:13 INFO 139663083075392] Saving model for epoch: 11\u001b[0m\n",
      "\u001b[34m[12/19/2020 04:18:13 INFO 139663083075392] Saved checkpoint to \"/tmp/tmpKkflAG/mx-mod-0000.params\"\u001b[0m\n",
      "\u001b[34m[12/19/2020 04:18:13 INFO 139663083075392] Early stop condition met. Stopping training.\u001b[0m\n",
      "\u001b[34m[12/19/2020 04:18:13 INFO 139663083075392] #progress_metric: host=algo-1, completed 100 % epochs\u001b[0m\n",
      "\u001b[34m#metrics {\"Metrics\": {\"Max Batches Seen Between Resets\": {\"count\": 1, \"max\": 15, \"sum\": 15.0, \"min\": 15}, \"Number of Batches Since Last Reset\": {\"count\": 1, \"max\": 15, \"sum\": 15.0, \"min\": 15}, \"Number of Records Since Last Reset\": {\"count\": 1, \"max\": 455, \"sum\": 455.0, \"min\": 455}, \"Total Batches Seen\": {\"count\": 1, \"max\": 196, \"sum\": 196.0, \"min\": 196}, \"Total Records Seen\": {\"count\": 1, \"max\": 5947, \"sum\": 5947.0, \"min\": 5947}, \"Max Records Seen Between Resets\": {\"count\": 1, \"max\": 455, \"sum\": 455.0, \"min\": 455}, \"Reset Count\": {\"count\": 1, \"max\": 14, \"sum\": 14.0, \"min\": 14}}, \"EndTime\": 1608351493.407416, \"Dimensions\": {\"Host\": \"algo-1\", \"Meta\": \"training_data_iter\", \"Operation\": \"training\", \"Algorithm\": \"Linear Learner\", \"epoch\": 11}, \"StartTime\": 1608351493.042625}\n",
      "\u001b[0m\n",
      "\u001b[34m[12/19/2020 04:18:13 INFO 139663083075392] #throughput_metric: host=algo-1, train throughput=1246.80008754 records/second\u001b[0m\n",
      "\u001b[34m[12/19/2020 04:18:13 WARNING 139663083075392] wait_for_all_workers will not sync workers since the kv store is not running distributed\u001b[0m\n",
      "\u001b[34m[12/19/2020 04:18:13 WARNING 139663083075392] wait_for_all_workers will not sync workers since the kv store is not running distributed\u001b[0m\n",
      "\u001b[34m[12/19/2020 04:18:13 INFO 139663083075392] #early_stopping_criteria_metric: host=algo-1, epoch=11, criteria=mse_objective, value=37.9766163545\u001b[0m\n",
      "\u001b[34m[12/19/2020 04:18:13 INFO 139663083075392] #validation_score (algo-1) : ('mse_objective', 37.726021560968135)\u001b[0m\n",
      "\u001b[34m[12/19/2020 04:18:13 INFO 139663083075392] #validation_score (algo-1) : ('mse', 37.726021560968135)\u001b[0m\n",
      "\u001b[34m[12/19/2020 04:18:13 INFO 139663083075392] #validation_score (algo-1) : ('absolute_loss', 4.063185299144072)\u001b[0m\n",
      "\u001b[34m[12/19/2020 04:18:13 INFO 139663083075392] #quality_metric: host=algo-1, validation mse_objective <loss>=37.726021561\u001b[0m\n",
      "\u001b[34m[12/19/2020 04:18:13 INFO 139663083075392] #quality_metric: host=algo-1, validation mse <loss>=37.726021561\u001b[0m\n",
      "\u001b[34m[12/19/2020 04:18:13 INFO 139663083075392] #quality_metric: host=algo-1, validation absolute_loss <loss>=4.06318529914\u001b[0m\n",
      "\u001b[34m[12/19/2020 04:18:13 INFO 139663083075392] Best model found for hyperparameters: {\"lr_scheduler_step\": 100, \"wd\": 0.01, \"optimizer\": \"adam\", \"lr_scheduler_factor\": 0.99, \"l1\": 0.0, \"learning_rate\": 0.1, \"lr_scheduler_minimum_lr\": 0.0001}\u001b[0m\n",
      "\u001b[34m[12/19/2020 04:18:13 INFO 139663083075392] Saved checkpoint to \"/tmp/tmp1GMWUc/mx-mod-0000.params\"\u001b[0m\n",
      "\u001b[34m[12/19/2020 04:18:13 INFO 139663083075392] Test data is not provided.\u001b[0m\n",
      "\u001b[34m#metrics {\"Metrics\": {\"totaltime\": {\"count\": 1, \"max\": 4940.886974334717, \"sum\": 4940.886974334717, \"min\": 4940.886974334717}, \"finalize.time\": {\"count\": 1, \"max\": 45.7611083984375, \"sum\": 45.7611083984375, \"min\": 45.7611083984375}, \"initialize.time\": {\"count\": 1, \"max\": 195.33205032348633, \"sum\": 195.33205032348633, \"min\": 195.33205032348633}, \"check_early_stopping.time\": {\"count\": 13, \"max\": 1.302957534790039, \"sum\": 7.534027099609375, \"min\": 0.1678466796875}, \"setuptime\": {\"count\": 1, \"max\": 21.537065505981445, \"sum\": 21.537065505981445, \"min\": 21.537065505981445}, \"update.time\": {\"count\": 12, \"max\": 418.51210594177246, \"sum\": 4469.961404800415, \"min\": 293.58506202697754}, \"epochs\": {\"count\": 1, \"max\": 15, \"sum\": 15.0, \"min\": 15}}, \"EndTime\": 1608351493.457809, \"Dimensions\": {\"Host\": \"algo-1\", \"Operation\": \"training\", \"Algorithm\": \"Linear Learner\"}, \"StartTime\": 1608351488.695349}\n",
      "\u001b[0m\n",
      "\n",
      "2020-12-19 04:18:41 Uploading - Uploading generated training model\n",
      "2020-12-19 04:18:41 Completed - Training job completed\n",
      "Training seconds: 55\n",
      "Billable seconds: 55\n"
     ]
    }
   ],
   "source": [
    "ll_estimator.fit({'train': training_data_channel,'validation':validation_data_channel})"
   ]
  },
  {
   "cell_type": "code",
   "execution_count": 85,
   "metadata": {},
   "outputs": [
    {
     "output_type": "stream",
     "name": "stdout",
     "text": [
      "linear-learner-demo-20-12-19-21-08-50\n"
     ]
    }
   ],
   "source": [
    "from time import strftime, gmtime, localtime\n",
    "timestamp = strftime('%y-%m-%d-%H-%M-%S', localtime())\n",
    "endpoint_name = 'linear-learner-demo-'+timestamp\n",
    "print(endpoint_name)"
   ]
  },
  {
   "cell_type": "code",
   "execution_count": 91,
   "metadata": {},
   "outputs": [
    {
     "output_type": "stream",
     "name": "stdout",
     "text": [
      "-----------------!"
     ]
    }
   ],
   "source": [
    "ll_predictor = ll_estimator.deploy(\n",
    "endpoint_name=endpoint_name,\n",
    "initial_instance_count=1,\n",
    "instance_type='ml.t2.medium')"
   ]
  },
  {
   "cell_type": "code",
   "execution_count": 93,
   "metadata": {},
   "outputs": [],
   "source": [
    "#ll_predictor.content_type = 'text/csv'\n",
    "ll_predictor.serializer = sagemaker.serializers.CSVSerializer()\n",
    "ll_predictor.deserializer = sagemaker.deserializers.CSVDeserializer()"
   ]
  },
  {
   "cell_type": "code",
   "execution_count": 94,
   "metadata": {},
   "outputs": [],
   "source": [
    "test_sample = '0.00632,18.00,2.310,0,0.5380,6.5750,65.20,4.0900,1,296.0,15.30,4.98'"
   ]
  },
  {
   "cell_type": "code",
   "execution_count": 95,
   "metadata": {},
   "outputs": [],
   "source": [
    "response = ll_predictor.predict(test_sample)"
   ]
  },
  {
   "cell_type": "code",
   "execution_count": 96,
   "metadata": {},
   "outputs": [
    {
     "output_type": "stream",
     "name": "stdout",
     "text": [
      "[['29.7144241333']]\n"
     ]
    }
   ],
   "source": [
    "print(response)"
   ]
  },
  {
   "cell_type": "code",
   "execution_count": null,
   "metadata": {},
   "outputs": [],
   "source": [
    "ll_predictor.delete_endpoint()"
   ]
  }
 ]
}